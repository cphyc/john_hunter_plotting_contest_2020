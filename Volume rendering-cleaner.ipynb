{
 "cells": [
  {
   "cell_type": "markdown",
   "metadata": {},
   "source": [
    "This notebook uses the recently-added support for doing volume rendering of [RAMSES](https://bitbucket.org/rteyssie/ramses/src/master/) datasets using the [yt](yt-project.com) project.\n",
    "\n",
    "A key ingredient in the formation of disky galaxy in the early stages of the Universe (in its first $\\sim 3\\mathrm{Gyr}$) is the acquisition of angular momentum that support the rotation of the forming disk.\n",
    "One important channel uncovered in recent research is through \"cold\" gas filaments, defined as gas that _never_ heats above $2\\times 10^5\\mathrm{K}$.\n",
    "This gas has a peculiar thermal history as well as a peculiar evolution, which could potentially contribute to our understanding of how galaxies spin up.\n",
    "\n",
    "In this notebook, I am using the output from one of my simulations at $1.75\\ \\mathrm{Gyr}$ ($z=3.6$) after the Big Bang, focused on one particular galaxy. The simulation has an exquisite resolution of $100 \\mathrm{ly}$ ($30 \\mathrm{pc}$), so that the galaxy is well-resolved.\n",
    "In order to find the gas that _never_ heats above $2\\times 10^5\\mathrm{K}$, I rely on a tracer particle scheme, developed in [Cadiou, _et al._ (2019)](https://www.aanda.org/articles/aa/abs/2019/01/aa34496-18/aa34496-18.html), that allows me to sample the trajectory of the gas as it falls onto the galaxy using particles. For each of them, I check the temperature at all times and keep only those that remained cool the entire way down.\n",
    "I then project the particles onto the simulation grid to find cells containing cold gas and make a volume rendering out of it.\n",
    "The tracer particle that track the cold gas have their ids stored in the file `ids_cold_gas.txt`."
   ]
  },
  {
   "cell_type": "markdown",
   "metadata": {
    "execution": {
     "iopub.execute_input": "2020-05-31T17:21:49.378100Z",
     "iopub.status.busy": "2020-05-31T17:21:49.377815Z",
     "iopub.status.idle": "2020-05-31T17:21:49.381494Z",
     "shell.execute_reply": "2020-05-31T17:21:49.380719Z",
     "shell.execute_reply.started": "2020-05-31T17:21:49.378071Z"
    }
   },
   "source": [
    "# Installing requirements\n",
    "\n",
    "First install the dependencies. You first need cython, numpy, h5py and (optionally) tqdm.\n",
    "An important note: this notebook relies on a version of yt that hasn't been integrated in the main, public version as of May 31.\n",
    "In the meantime, you can use my own fork of yt with the integrated changes by using the cell below."
   ]
  },
  {
   "cell_type": "code",
   "execution_count": null,
   "metadata": {},
   "outputs": [],
   "source": [
    "%%bash\n",
    "\n",
    "# Clone my version of yt, and install it\n",
    "cd /path/to/temporary_folder/\n",
    "git clone https://github.com/cphyc/yt.git\n",
    "git checkout indep-octree-raytracing\n",
    "# Make sure you have cython and numpy installed *before* issuing this command\n",
    "pip install ."
   ]
  },
  {
   "cell_type": "code",
   "execution_count": 1,
   "metadata": {
    "execution": {
     "iopub.execute_input": "2020-05-31T17:29:27.551340Z",
     "iopub.status.busy": "2020-05-31T17:29:27.551153Z",
     "iopub.status.idle": "2020-05-31T17:29:29.792953Z",
     "shell.execute_reply": "2020-05-31T17:29:29.792210Z",
     "shell.execute_reply.started": "2020-05-31T17:29:27.551305Z"
    }
   },
   "outputs": [],
   "source": [
    "import yt\n",
    "import numpy as np\n",
    "from tqdm import tqdm\n",
    "import numpy as np"
   ]
  },
  {
   "cell_type": "markdown",
   "metadata": {},
   "source": [
    "# Load the data"
   ]
  },
  {
   "cell_type": "code",
   "execution_count": null,
   "metadata": {},
   "outputs": [],
   "source": [
    "%%bash\n",
    "# Download data into a new folder\n",
    "# a word of caution here: this will require about 20Gio of space on your hard drive!\n",
    "mkdir -p data\n",
    "cd data\n",
    "[[ ! -e output_00111.tar.gz ]] && wget http://use.yt/upload/a7fb5eee\n",
    "[[ ! -e output_00111/info_00111.txt ]] && tar xf output_00111.tar.gz"
   ]
  },
  {
   "cell_type": "markdown",
   "metadata": {},
   "source": [
    "Load the ids of the particle selected and the dataset."
   ]
  },
  {
   "cell_type": "code",
   "execution_count": 2,
   "metadata": {
    "execution": {
     "iopub.execute_input": "2020-05-31T17:29:29.794319Z",
     "iopub.status.busy": "2020-05-31T17:29:29.794115Z",
     "iopub.status.idle": "2020-05-31T17:29:38.286159Z",
     "shell.execute_reply": "2020-05-31T17:29:38.285318Z",
     "shell.execute_reply.started": "2020-05-31T17:29:29.794291Z"
    }
   },
   "outputs": [
    {
     "name": "stderr",
     "output_type": "stream",
     "text": [
      "yt : [\u001b[32mINFO\u001b[0m     ] 2020-05-31 19:29:38,276 Parameters: current_time              = 2.5525434507448876\n",
      "yt : [\u001b[32mINFO\u001b[0m     ] 2020-05-31 19:29:38,277 Parameters: domain_dimensions         = [256 256 256]\n",
      "yt : [\u001b[32mINFO\u001b[0m     ] 2020-05-31 19:29:38,277 Parameters: domain_left_edge          = [0. 0. 0.]\n",
      "yt : [\u001b[32mINFO\u001b[0m     ] 2020-05-31 19:29:38,278 Parameters: domain_right_edge         = [1. 1. 1.]\n",
      "yt : [\u001b[32mINFO\u001b[0m     ] 2020-05-31 19:29:38,279 Parameters: cosmological_simulation   = 1\n",
      "yt : [\u001b[32mINFO\u001b[0m     ] 2020-05-31 19:29:38,279 Parameters: current_redshift          = 3.5666829167139156\n",
      "yt : [\u001b[32mINFO\u001b[0m     ] 2020-05-31 19:29:38,280 Parameters: omega_lambda              = 0.691100001335144\n",
      "yt : [\u001b[32mINFO\u001b[0m     ] 2020-05-31 19:29:38,280 Parameters: omega_matter              = 0.308899998664856\n",
      "yt : [\u001b[32mINFO\u001b[0m     ] 2020-05-31 19:29:38,281 Parameters: omega_radiation           = 0.0\n",
      "yt : [\u001b[32mINFO\u001b[0m     ] 2020-05-31 19:29:38,281 Parameters: hubble_constant           = 0.6773999786376951\n"
     ]
    }
   ],
   "source": [
    "cold_gas_tracer_ids = np.loadtxt('ids_cold_gas.txt', dtype=int)\n",
    "\n",
    "# These values are such that the box is centred around one galaxy, with the right boundaries\n",
    "center, w = np.array([0.50300061, 0.49767861, 0.49692033]), 0.02166748046875\n",
    "bbox = center-w, center+w\n",
    "\n",
    "# Load the dataset. The bbox parameter ensures that we're not reading data\n",
    "# outside the region of interest and speeds things up (and saves a lot of RAM!)\n",
    "ds = yt.load('data/output_00111/info_00111.txt', bbox=bbox)"
   ]
  },
  {
   "cell_type": "markdown",
   "metadata": {},
   "source": [
    "Let us use yt to create a particle filter to only retains the cold gas, based on the list of cold gas tracers.\n",
    "I can then flag cells that contains one of these tracers to easily identify cold flows."
   ]
  },
  {
   "cell_type": "code",
   "execution_count": 3,
   "metadata": {
    "execution": {
     "iopub.execute_input": "2020-05-31T17:29:38.287822Z",
     "iopub.status.busy": "2020-05-31T17:29:38.287644Z",
     "iopub.status.idle": "2020-05-31T17:29:50.102325Z",
     "shell.execute_reply": "2020-05-31T17:29:50.101539Z",
     "shell.execute_reply.started": "2020-05-31T17:29:38.287799Z"
    }
   },
   "outputs": [
    {
     "name": "stderr",
     "output_type": "stream",
     "text": [
      "yt : [\u001b[33mWARNING\u001b[0m  ] 2020-05-31 19:29:38,298 Detected 1 extra gravity fields.\n",
      "yt : [\u001b[32mINFO\u001b[0m     ] 2020-05-31 19:29:49,940 Adding particle_type: DM\n",
      "yt : [\u001b[32mINFO\u001b[0m     ] 2020-05-31 19:29:49,958 Adding particle_type: star\n",
      "yt : [\u001b[32mINFO\u001b[0m     ] 2020-05-31 19:29:49,974 Adding particle_type: cloud\n",
      "yt : [\u001b[32mINFO\u001b[0m     ] 2020-05-31 19:29:49,992 Adding particle_type: dust\n",
      "yt : [\u001b[32mINFO\u001b[0m     ] 2020-05-31 19:29:50,009 Adding particle_type: star_tracer\n",
      "yt : [\u001b[32mINFO\u001b[0m     ] 2020-05-31 19:29:50,025 Adding particle_type: cloud_tracer\n",
      "yt : [\u001b[32mINFO\u001b[0m     ] 2020-05-31 19:29:50,042 Adding particle_type: dust_tracer\n",
      "yt : [\u001b[32mINFO\u001b[0m     ] 2020-05-31 19:29:50,059 Adding particle_type: gas_tracer\n"
     ]
    },
    {
     "data": {
      "text/plain": [
       "('deposit', 'cold_gas_cic_mass')"
      ]
     },
     "execution_count": 3,
     "metadata": {},
     "output_type": "execute_result"
    }
   ],
   "source": [
    "@yt.particle_filter(name='cold_gas', requires=['particle_identity'], filtered_type='gas_tracer')\n",
    "def cold_gas(pfilter, data):\n",
    "    return np.in1d(data[(pfilter.filtered_type, 'particle_identity')].value.astype(int), cold_gas_tracer_ids)\n",
    "\n",
    "ds.add_particle_filter('cold_gas')\n",
    "ds.add_deposited_particle_field(('cold_gas', 'particle_mass'), method='cic')"
   ]
  },
  {
   "cell_type": "markdown",
   "metadata": {},
   "source": [
    "Now that we have flagged cells that contained at least one tracer particle, we can extract the region containing the cold gas."
   ]
  },
  {
   "cell_type": "code",
   "execution_count": 4,
   "metadata": {
    "execution": {
     "iopub.execute_input": "2020-05-31T17:29:50.103814Z",
     "iopub.status.busy": "2020-05-31T17:29:50.103621Z",
     "iopub.status.idle": "2020-05-31T17:29:50.107839Z",
     "shell.execute_reply": "2020-05-31T17:29:50.107184Z",
     "shell.execute_reply.started": "2020-05-31T17:29:50.103787Z"
    }
   },
   "outputs": [],
   "source": [
    "sp = ds.box(bbox[0], bbox[1])\n",
    "reg = sp.cut_region(['obj[(\"deposit\", \"cold_gas_cic_mass\")] > 0'])"
   ]
  },
  {
   "cell_type": "markdown",
   "metadata": {},
   "source": [
    "# Temperature\n",
    "\n",
    "Here we will make 3D volume rendering of the temperature using blue shades."
   ]
  },
  {
   "cell_type": "code",
   "execution_count": 5,
   "metadata": {
    "execution": {
     "iopub.execute_input": "2020-05-31T17:29:50.109020Z",
     "iopub.status.busy": "2020-05-31T17:29:50.108830Z",
     "iopub.status.idle": "2020-05-31T17:29:50.135041Z",
     "shell.execute_reply": "2020-05-31T17:29:50.134422Z",
     "shell.execute_reply.started": "2020-05-31T17:29:50.108989Z"
    }
   },
   "outputs": [],
   "source": [
    "sc = yt.create_scene(reg, field=('gas', 'temperature'), lens_type='perspective')\n",
    "source = sc[0]\n",
    "sc.camera.focus = (sp.center).to('unitary').value\n",
    "sc.camera.position = bbox[0]\n",
    "sc.camera.resolution = (2048, 2048)"
   ]
  },
  {
   "cell_type": "code",
   "execution_count": null,
   "metadata": {
    "execution": {
     "iopub.execute_input": "2020-05-31T17:29:50.136188Z",
     "iopub.status.busy": "2020-05-31T17:29:50.136010Z"
    }
   },
   "outputs": [],
   "source": [
    "bounds = (1e3, 1e6)\n",
    "\n",
    "tf = yt.ColorTransferFunction(np.log10(bounds), grey_opacity=True)\n",
    "tf.add_layers(5, colormap='Blues')\n",
    "source.tfh.tf = tf\n",
    "source.tfh.bounds = bounds\n",
    "source.tfh.log = True\n",
    "\n",
    "source.tfh.plot(None, profile_field='temperature')"
   ]
  },
  {
   "cell_type": "code",
   "execution_count": null,
   "metadata": {},
   "outputs": [],
   "source": [
    "for i, j in tqdm(zip(sc.camera.iter_rotate(2*np.pi, n_steps=200, rot_center=sp.center),\n",
    "                     sc.camera.iter_zoom(3, n_steps=200)), total=200):\n",
    "    sc.save('plots/temperature_%04i.png' % i, sigma_clip=1)"
   ]
  },
  {
   "cell_type": "markdown",
   "metadata": {},
   "source": [
    "# Density\n",
    "\n",
    "Now let's make some plots of the density, this time using the matplotlib's \"inferno\" colormap (which gives a nice yellowish color to densest regions)."
   ]
  },
  {
   "cell_type": "code",
   "execution_count": null,
   "metadata": {},
   "outputs": [],
   "source": [
    "sc = yt.create_scene(reg, field=('gas', 'density'), lens_type='perspective')\n",
    "source = sc[0]\n",
    "sc.camera.focus = (sp.center).to('unitary').value\n",
    "sc.camera.position = bbox[0]\n",
    "sc.camera.resolution = (2048, 2048)"
   ]
  },
  {
   "cell_type": "code",
   "execution_count": null,
   "metadata": {},
   "outputs": [],
   "source": [
    "bounds = (1e-27, 1e-24)\n",
    "\n",
    "tf = yt.ColorTransferFunction(np.log10(bounds), grey_opacity=False)\n",
    "tf.add_layers(7, colormap='inferno')\n",
    "source.tfh.tf = tf\n",
    "source.tfh.bounds = bounds\n",
    "source.tfh.log = True\n",
    "\n",
    "source.tfh.plot(None, profile_field='density')"
   ]
  },
  {
   "cell_type": "code",
   "execution_count": null,
   "metadata": {},
   "outputs": [],
   "source": [
    "for i, j in tqdm(zip(sc.camera.iter_rotate(2*np.pi, n_steps=200, rot_center=sp.center),\n",
    "                     sc.camera.iter_zoom(3, n_steps=200)), total=200):\n",
    "    sc.save('plots/density_%04i.png' % i, sigma_clip=2)"
   ]
  },
  {
   "cell_type": "markdown",
   "metadata": {},
   "source": [
    "# Merge density and temperature layers together"
   ]
  },
  {
   "cell_type": "markdown",
   "metadata": {},
   "source": [
    "This requires the imagemagick package. When using conda, you can install it using\n",
    "```bash\n",
    "conda install -c conda-forge imagemagick\n",
    "```"
   ]
  },
  {
   "cell_type": "code",
   "execution_count": null,
   "metadata": {},
   "outputs": [],
   "source": [
    "%%bash\n",
    "\n",
    "cd plots/\n",
    "for i in {0000..0200}; do\n",
    "    composite -blend 100x100 temperature_$i.png density_$i.png temp_dens_$i.png\n",
    "done"
   ]
  },
  {
   "cell_type": "markdown",
   "metadata": {
    "execution": {
     "iopub.execute_input": "2020-05-31T15:13:09.430413Z",
     "iopub.status.busy": "2020-05-31T15:13:09.429837Z",
     "iopub.status.idle": "2020-05-31T15:13:09.441620Z",
     "shell.execute_reply": "2020-05-31T15:13:09.439292Z",
     "shell.execute_reply.started": "2020-05-31T15:13:09.430343Z"
    }
   },
   "source": [
    "Now, let's make a video out of the frames. This requires ffmpeg, which you can also install using\n",
    "```bash\n",
    "conda install -c conda-forge ffmpeg\n",
    "```"
   ]
  },
  {
   "cell_type": "code",
   "execution_count": null,
   "metadata": {},
   "outputs": [],
   "source": [
    "%%bash\n",
    "cd plots\n",
    "cat temp_dens_????.png \\\n",
    "    | ffmpeg -f image2pipe -framerate 20 -i - -vcodec libx264 -pix_fmt yuv420p temp_dens.mp4"
   ]
  },
  {
   "cell_type": "code",
   "execution_count": null,
   "metadata": {},
   "outputs": [],
   "source": []
  }
 ],
 "metadata": {
  "kernelspec": {
   "display_name": "Python 3",
   "language": "python",
   "name": "python3"
  },
  "language_info": {
   "codemirror_mode": {
    "name": "ipython",
    "version": 3
   },
   "file_extension": ".py",
   "mimetype": "text/x-python",
   "name": "python",
   "nbconvert_exporter": "python",
   "pygments_lexer": "ipython3",
   "version": "3.7.6"
  },
  "widgets": {
   "application/vnd.jupyter.widget-state+json": {
    "state": {},
    "version_major": 2,
    "version_minor": 0
   }
  }
 },
 "nbformat": 4,
 "nbformat_minor": 4
}
