{
  "nbformat": 4,
  "nbformat_minor": 0,
  "metadata": {
    "kernelspec": {
      "display_name": "Python 3",
      "language": "python",
      "name": "python3"
    },
    "language_info": {
      "codemirror_mode": {
        "name": "ipython",
        "version": 3
      },
      "file_extension": ".py",
      "mimetype": "text/x-python",
      "name": "python",
      "nbconvert_exporter": "python",
      "pygments_lexer": "ipython3",
      "version": "3.7.6"
    },
    "colab": {
      "name": "Volume rendering-cleaner.ipynb",
      "provenance": [],
      "toc_visible": true
    }
  },
  "cells": [
    {
      "cell_type": "markdown",
      "metadata": {
        "id": "fzCTJ7WZqhDH",
        "colab_type": "text"
      },
      "source": [
        "This notebook uses the recently-added support for doing volume rendering of [RAMSES](https://bitbucket.org/rteyssie/ramses/src/master/) datasets using the [yt](yt-project.com) project.\n",
        "\n",
        "A key ingredient in the formation of disky galaxy in the early stages of the Universe (in its first $\\sim 3\\mathrm{Gyr}$) is the acquisition of angular momentum that support the rotation of the forming disk.\n",
        "One important channel uncovered in recent research is through \"cold\" gas filaments, defined as gas that _never_ heats above $2\\times 10^5\\mathrm{K}$.\n",
        "This gas has a peculiar thermal history as well as a peculiar evolution, which could potentially contribute to our understanding of how galaxies spin up.\n",
        "\n",
        "In this notebook, I am using the output from one of my simulations at $1.75\\ \\mathrm{Gyr}$ ($z=3.6$) after the Big Bang, focused on one particular galaxy. The simulation has an exquisite resolution of $100 \\mathrm{ly}$ ($30 \\mathrm{pc}$), so that the galaxy is well-resolved.\n",
        "In order to find the gas that _never_ heats above $2\\times 10^5\\mathrm{K}$, I rely on a tracer particle scheme, developed in [Cadiou, _et al._ (2019)](https://www.aanda.org/articles/aa/abs/2019/01/aa34496-18/aa34496-18.html), that allows me to sample the trajectory of the gas as it falls onto the galaxy using particles. For each of them, I check the temperature at all times and keep only those that remained cool the entire way down.\n",
        "I then project the particles onto the simulation grid to find cells containing cold gas and make a volume rendering out of it.\n",
        "The tracer particle that track the cold gas have their ids stored in the file `ids_cold_gas.txt`."
      ]
    },
    {
      "cell_type": "markdown",
      "metadata": {
        "execution": {
          "iopub.execute_input": "2020-05-31T17:21:49.378100Z",
          "iopub.status.busy": "2020-05-31T17:21:49.377815Z",
          "iopub.status.idle": "2020-05-31T17:21:49.381494Z",
          "shell.execute_reply": "2020-05-31T17:21:49.380719Z",
          "shell.execute_reply.started": "2020-05-31T17:21:49.378071Z"
        },
        "id": "vAyxi2vYqhDK",
        "colab_type": "text"
      },
      "source": [
        "# Installing requirements\n",
        "\n",
        "First install the dependencies. You first need cython, numpy, h5py and (optionally) tqdm.\n",
        "An important note: this notebook relies on a version of yt that hasn't been integrated in the main, public version as of May 31.\n",
        "In the meantime, you can use my own fork of yt with the integrated changes by using the cell below."
      ]
    },
    {
      "cell_type": "code",
      "metadata": {
        "id": "STUkaeeEqlT-",
        "colab_type": "code",
        "colab": {
          "base_uri": "https://localhost:8080/",
          "height": 69
        },
        "outputId": "c3387850-a377-485f-f646-e4cc224f7b4a"
      },
      "source": [
        "%%bash\n",
        "pip install cython numpy tqdm"
      ],
      "execution_count": 1,
      "outputs": [
        {
          "output_type": "stream",
          "text": [
            "Requirement already satisfied: cython in /usr/local/lib/python3.6/dist-packages (0.29.18)\n",
            "Requirement already satisfied: numpy in /usr/local/lib/python3.6/dist-packages (1.18.4)\n",
            "Requirement already satisfied: tqdm in /usr/local/lib/python3.6/dist-packages (4.41.1)\n"
          ],
          "name": "stdout"
        }
      ]
    },
    {
      "cell_type": "code",
      "metadata": {
        "id": "7cy3CJJiqhDN",
        "colab_type": "code",
        "colab": {}
      },
      "source": [
        "%%bash\n",
        "\n",
        "# Clone my version of yt, and install it\n",
        "mkdir -p tmp && cd tmp/\n",
        "[[ -d yt ]] || git clone https://github.com/cphyc/yt.git"
      ],
      "execution_count": 0,
      "outputs": []
    },
    {
      "cell_type": "code",
      "metadata": {
        "id": "pWCOqymAq5CV",
        "colab_type": "code",
        "colab": {
          "base_uri": "https://localhost:8080/",
          "height": 52
        },
        "outputId": "abd5cf6c-e9ef-420a-cd44-a17ed6c47c1e"
      },
      "source": [
        "%%bash \n",
        "cd tmp/yt\n",
        "git checkout indep-octree-raytracing"
      ],
      "execution_count": 3,
      "outputs": [
        {
          "output_type": "stream",
          "text": [
            "Your branch is up to date with 'origin/indep-octree-raytracing'.\n"
          ],
          "name": "stdout"
        },
        {
          "output_type": "stream",
          "text": [
            "Already on 'indep-octree-raytracing'\n"
          ],
          "name": "stderr"
        }
      ]
    },
    {
      "cell_type": "code",
      "metadata": {
        "id": "POXuzL_1qyM7",
        "colab_type": "code",
        "colab": {}
      },
      "source": [
        "%%bash\n",
        "cd tmp/yt\n",
        "# Make sure you have cython and numpy installed *before* issuing this command\n",
        "pip install -v ."
      ],
      "execution_count": 0,
      "outputs": []
    },
    {
      "cell_type": "code",
      "metadata": {
        "execution": {
          "iopub.execute_input": "2020-05-31T17:34:47.938425Z",
          "iopub.status.busy": "2020-05-31T17:34:47.938235Z",
          "iopub.status.idle": "2020-05-31T17:34:48.300942Z",
          "shell.execute_reply": "2020-05-31T17:34:48.300334Z",
          "shell.execute_reply.started": "2020-05-31T17:34:47.938398Z"
        },
        "id": "3cXOCye6qhDY",
        "colab_type": "code",
        "colab": {}
      },
      "source": [
        "import yt\n",
        "import numpy as np\n",
        "from tqdm.auto import tqdm\n",
        "import numpy as np"
      ],
      "execution_count": 0,
      "outputs": []
    },
    {
      "cell_type": "markdown",
      "metadata": {
        "id": "_0md6C2IqhDe",
        "colab_type": "text"
      },
      "source": [
        "# Load the data"
      ]
    },
    {
      "cell_type": "code",
      "metadata": {
        "id": "heixLMX8qhDg",
        "colab_type": "code",
        "colab": {}
      },
      "source": [
        "%%bash\n",
        "# Download data into a new folder\n",
        "# a word of caution here: this will require about 20Gio of space on your hard drive!\n",
        "mkdir -p data\n",
        "cd data\n",
        "[[ ! -e output_00111.tar.gz ]] && wget -O output_00111.tar.gz http://use.yt/upload/a7fb5eee\n",
        "[[ ! -d output_00111 ]] && tar xf output_00111.tar.gz"
      ],
      "execution_count": 0,
      "outputs": []
    },
    {
      "cell_type": "code",
      "metadata": {
        "id": "mEVlk2fwsGBP",
        "colab_type": "code",
        "colab": {}
      },
      "source": [
        "%%bash\n",
        "mkdir -p plots\n",
        "\n",
        "wget https://raw.githubusercontent.com/cphyc/john_hunter_plotting_contest_2020/master/ids_cold_gas.txt 2> /dev/null"
      ],
      "execution_count": 0,
      "outputs": []
    },
    {
      "cell_type": "code",
      "metadata": {
        "id": "yGDchcnkt7VM",
        "colab_type": "code",
        "colab": {}
      },
      "source": [
        "# The dataset is missing a file descriptor, restore it\n",
        "with open('data/output_00111/part_file_descriptor.txt', 'w') as f:\n",
        "    f.writelines(\"\"\"# version:  1\n",
        "# ivar, variable_name, variable_type\n",
        "  1, position_x, d\n",
        "  2, position_y, d\n",
        "  3, position_z, d\n",
        "  4, velocity_x, d\n",
        "  5, velocity_y, d\n",
        "  6, velocity_z, d\n",
        "  7, mass, d\n",
        "  8, identity, i\n",
        "  9, levelp, i\n",
        " 10, family, b\n",
        " 11, tag, b\n",
        " 12, birth_time, d\n",
        " 13, metallicity, d\n",
        " 14, partp, i\n",
        "\"\"\")"
      ],
      "execution_count": 0,
      "outputs": []
    },
    {
      "cell_type": "markdown",
      "metadata": {
        "id": "ojXNWchIqhDm",
        "colab_type": "text"
      },
      "source": [
        "Load the ids of the particle selected and the dataset."
      ]
    },
    {
      "cell_type": "code",
      "metadata": {
        "execution": {
          "iopub.execute_input": "2020-05-31T17:29:29.794319Z",
          "iopub.status.busy": "2020-05-31T17:29:29.794115Z",
          "iopub.status.idle": "2020-05-31T17:29:38.286159Z",
          "shell.execute_reply": "2020-05-31T17:29:38.285318Z",
          "shell.execute_reply.started": "2020-05-31T17:29:29.794291Z"
        },
        "id": "F4Hp-7WCqhDm",
        "colab_type": "code",
        "colab": {
          "base_uri": "https://localhost:8080/",
          "height": 191
        },
        "outputId": "2b3288fd-3a66-4297-a936-6deb2c4a3b2c"
      },
      "source": [
        "cold_gas_tracer_ids = np.loadtxt('ids_cold_gas.txt', dtype=int)\n",
        "\n",
        "# These values are such that the box is centred around one galaxy, with the right boundaries\n",
        "center, w = np.array([0.50300061, 0.49767861, 0.49692033]), 0.02166748046875\n",
        "bbox = center-w, center+w\n",
        "\n",
        "# Load the dataset. The bbox parameter ensures that we're not reading data\n",
        "# outside the region of interest and speeds things up (and saves a lot of RAM!)\n",
        "ds = yt.load('data/output_00111/info_00111.txt', bbox=bbox)"
      ],
      "execution_count": 10,
      "outputs": [
        {
          "output_type": "stream",
          "text": [
            "yt : [INFO     ] 2020-06-01 12:44:32,220 Parameters: current_time              = 2.5525434507448876\n",
            "yt : [INFO     ] 2020-06-01 12:44:32,221 Parameters: domain_dimensions         = [256 256 256]\n",
            "yt : [INFO     ] 2020-06-01 12:44:32,222 Parameters: domain_left_edge          = [0. 0. 0.]\n",
            "yt : [INFO     ] 2020-06-01 12:44:32,225 Parameters: domain_right_edge         = [1. 1. 1.]\n",
            "yt : [INFO     ] 2020-06-01 12:44:32,228 Parameters: cosmological_simulation   = 1\n",
            "yt : [INFO     ] 2020-06-01 12:44:32,228 Parameters: current_redshift          = 3.5666829167139156\n",
            "yt : [INFO     ] 2020-06-01 12:44:32,231 Parameters: omega_lambda              = 0.691100001335144\n",
            "yt : [INFO     ] 2020-06-01 12:44:32,232 Parameters: omega_matter              = 0.308899998664856\n",
            "yt : [INFO     ] 2020-06-01 12:44:32,234 Parameters: omega_radiation           = 0.0\n",
            "yt : [INFO     ] 2020-06-01 12:44:32,236 Parameters: hubble_constant           = 0.6773999786376951\n"
          ],
          "name": "stderr"
        }
      ]
    },
    {
      "cell_type": "markdown",
      "metadata": {
        "id": "kQmXxcp7qhDu",
        "colab_type": "text"
      },
      "source": [
        "Let us use yt to create a particle filter to only retains the cold gas, based on the list of cold gas tracers.\n",
        "I can then flag cells that contains one of these tracers to easily identify cold flows."
      ]
    },
    {
      "cell_type": "code",
      "metadata": {
        "execution": {
          "iopub.execute_input": "2020-05-31T17:29:38.287822Z",
          "iopub.status.busy": "2020-05-31T17:29:38.287644Z",
          "iopub.status.idle": "2020-05-31T17:29:50.102325Z",
          "shell.execute_reply": "2020-05-31T17:29:50.101539Z",
          "shell.execute_reply.started": "2020-05-31T17:29:38.287799Z"
        },
        "id": "bTj9a02NqhDu",
        "colab_type": "code",
        "colab": {
          "base_uri": "https://localhost:8080/",
          "height": 173
        },
        "outputId": "5c20be0d-190a-46c5-bc79-03fd94ce88a4"
      },
      "source": [
        "@yt.particle_filter(name='cold_gas', requires=['particle_identity'], filtered_type='all')\n",
        "def cold_gas(pfilter, data):\n",
        "    return ((data[(pfilter.filtered_type, 'particle_family')] == 0) & np.in1d(data[(pfilter.filtered_type, 'particle_identity')].value.astype(int), cold_gas_tracer_ids))\n",
        "\n",
        "ds.add_particle_filter('cold_gas')\n",
        "ds.add_deposited_particle_field(('cold_gas', 'particle_mass'), method='cic')"
      ],
      "execution_count": 11,
      "outputs": [
        {
          "output_type": "stream",
          "text": [
            "yt : [INFO     ] 2020-06-01 12:44:55,834 Adding particle_type: DM\n",
            "yt : [INFO     ] 2020-06-01 12:44:55,860 Adding particle_type: star\n",
            "yt : [INFO     ] 2020-06-01 12:44:55,881 Adding particle_type: cloud\n",
            "yt : [INFO     ] 2020-06-01 12:44:55,903 Adding particle_type: dust\n",
            "yt : [INFO     ] 2020-06-01 12:44:55,925 Adding particle_type: star_tracer\n",
            "yt : [INFO     ] 2020-06-01 12:44:55,947 Adding particle_type: cloud_tracer\n",
            "yt : [INFO     ] 2020-06-01 12:44:55,969 Adding particle_type: dust_tracer\n",
            "yt : [INFO     ] 2020-06-01 12:44:55,998 Adding particle_type: gas_tracer\n"
          ],
          "name": "stderr"
        },
        {
          "output_type": "execute_result",
          "data": {
            "text/plain": [
              "('deposit', 'cold_gas_cic_mass')"
            ]
          },
          "metadata": {
            "tags": []
          },
          "execution_count": 11
        }
      ]
    },
    {
      "cell_type": "markdown",
      "metadata": {
        "id": "CZGWCy3IqhD2",
        "colab_type": "text"
      },
      "source": [
        "Now that we have flagged cells that contained at least one tracer particle, we can extract the region containing the cold gas."
      ]
    },
    {
      "cell_type": "code",
      "metadata": {
        "execution": {
          "iopub.execute_input": "2020-05-31T17:29:50.103814Z",
          "iopub.status.busy": "2020-05-31T17:29:50.103621Z",
          "iopub.status.idle": "2020-05-31T17:29:50.107839Z",
          "shell.execute_reply": "2020-05-31T17:29:50.107184Z",
          "shell.execute_reply.started": "2020-05-31T17:29:50.103787Z"
        },
        "id": "UCUQ_U7fqhD3",
        "colab_type": "code",
        "colab": {}
      },
      "source": [
        "sp = ds.box(bbox[0], bbox[1])\n",
        "reg = sp.cut_region(['obj[(\"deposit\", \"cold_gas_cic_mass\")] > 0'])"
      ],
      "execution_count": 0,
      "outputs": []
    },
    {
      "cell_type": "code",
      "metadata": {
        "id": "lDiDJpEh45rA",
        "colab_type": "code",
        "colab": {
          "base_uri": "https://localhost:8080/",
          "height": 34
        },
        "outputId": "adf1eeb0-d726-4e3c-da1a-f04ed1ce4d44"
      },
      "source": [
        "reg['density'].shape   # this should be > 0"
      ],
      "execution_count": 13,
      "outputs": [
        {
          "output_type": "execute_result",
          "data": {
            "text/plain": [
              "(387016,)"
            ]
          },
          "metadata": {
            "tags": []
          },
          "execution_count": 13
        }
      ]
    },
    {
      "cell_type": "markdown",
      "metadata": {
        "id": "4GCejAFDqhD7",
        "colab_type": "text"
      },
      "source": [
        "# Temperature\n",
        "\n",
        "Here we will make 3D volume rendering of the temperature using blue shades."
      ]
    },
    {
      "cell_type": "code",
      "metadata": {
        "execution": {
          "iopub.execute_input": "2020-05-31T19:07:49.549158Z",
          "iopub.status.busy": "2020-05-31T19:07:49.548963Z",
          "iopub.status.idle": "2020-05-31T19:07:49.588821Z",
          "shell.execute_reply": "2020-05-31T19:07:49.588127Z",
          "shell.execute_reply.started": "2020-05-31T19:07:49.549133Z"
        },
        "id": "QeGNmU21qhD8",
        "colab_type": "code",
        "colab": {}
      },
      "source": [
        "sc = yt.create_scene(reg, field=('gas', 'temperature'), lens_type='perspective')\n",
        "source = sc[0]\n",
        "sc.camera.focus = (sp.center).to('unitary').value\n",
        "sc.camera.position = bbox[1]\n",
        "sc.camera.resolution = (2048, 2048)"
      ],
      "execution_count": 0,
      "outputs": []
    },
    {
      "cell_type": "code",
      "metadata": {
        "execution": {
          "iopub.execute_input": "2020-05-31T19:07:49.590192Z",
          "iopub.status.busy": "2020-05-31T19:07:49.589972Z",
          "iopub.status.idle": "2020-05-31T19:08:01.865125Z",
          "shell.execute_reply": "2020-05-31T19:08:01.864387Z",
          "shell.execute_reply.started": "2020-05-31T19:07:49.590166Z"
        },
        "id": "wzjYLvjlqhEA",
        "colab_type": "code",
        "colab": {}
      },
      "source": [
        "bounds = (1e3, 1e6)\n",
        "\n",
        "tf = yt.ColorTransferFunction(np.log10(bounds), grey_opacity=True)\n",
        "tf.add_layers(5, colormap='Blues')\n",
        "source.tfh.tf = tf\n",
        "source.tfh.bounds = bounds\n",
        "source.tfh.log = True\n",
        "\n",
        "source.tfh.plot(None, profile_field='temperature')"
      ],
      "execution_count": 0,
      "outputs": []
    },
    {
      "cell_type": "code",
      "metadata": {
        "execution": {
          "iopub.execute_input": "2020-05-31T19:08:01.866305Z",
          "iopub.status.busy": "2020-05-31T19:08:01.866127Z",
          "iopub.status.idle": "2020-05-31T19:34:08.040523Z",
          "shell.execute_reply": "2020-05-31T19:34:08.039761Z",
          "shell.execute_reply.started": "2020-05-31T19:08:01.866281Z"
        },
        "scrolled": true,
        "id": "kDIs4lWXqhEG",
        "colab_type": "code",
        "colab": {}
      },
      "source": [
        "for i, j in tqdm(zip(sc.camera.iter_rotate(np.pi, n_steps=400, rot_center=sp.center),\n",
        "                     sc.camera.iter_zoom(3, n_steps=400)), total=400):\n",
        "    sc.save('plots/temperature_%04i.png' % i, sigma_clip=1)"
      ],
      "execution_count": 0,
      "outputs": []
    },
    {
      "cell_type": "markdown",
      "metadata": {
        "id": "-mrkWRc8qhEL",
        "colab_type": "text"
      },
      "source": [
        "# Density\n",
        "\n",
        "Now let's make some plots of the density, this time using the matplotlib's \"inferno\" colormap (which gives a nice yellowish color to densest regions)."
      ]
    },
    {
      "cell_type": "code",
      "metadata": {
        "execution": {
          "iopub.execute_input": "2020-05-31T18:46:04.370820Z",
          "iopub.status.busy": "2020-05-31T18:46:04.370578Z",
          "iopub.status.idle": "2020-05-31T18:46:04.416587Z",
          "shell.execute_reply": "2020-05-31T18:46:04.415914Z",
          "shell.execute_reply.started": "2020-05-31T18:46:04.370791Z"
        },
        "id": "L6_we7BCqhEM",
        "colab_type": "code",
        "colab": {}
      },
      "source": [
        "sc = yt.create_scene(reg, field=('gas', 'density'), lens_type='perspective')\n",
        "source = sc[0]\n",
        "sc.camera.focus = (sp.center).to('unitary').value\n",
        "sc.camera.position = bbox[1]\n",
        "sc.camera.resolution = (2048, 2048)"
      ],
      "execution_count": 0,
      "outputs": []
    },
    {
      "cell_type": "code",
      "metadata": {
        "execution": {
          "iopub.execute_input": "2020-05-31T18:46:04.698814Z",
          "iopub.status.busy": "2020-05-31T18:46:04.698637Z",
          "iopub.status.idle": "2020-05-31T18:46:14.465376Z",
          "shell.execute_reply": "2020-05-31T18:46:14.464817Z",
          "shell.execute_reply.started": "2020-05-31T18:46:04.698790Z"
        },
        "id": "aAD24uRKqhER",
        "colab_type": "code",
        "colab": {}
      },
      "source": [
        "bounds = (1e-27, 1e-24)\n",
        "\n",
        "tf = yt.ColorTransferFunction(np.log10(bounds), grey_opacity=False)\n",
        "tf.add_layers(7, colormap='inferno')\n",
        "source.tfh.tf = tf\n",
        "source.tfh.bounds = bounds\n",
        "source.tfh.log = True\n",
        "\n",
        "source.tfh.plot(None, profile_field='density')"
      ],
      "execution_count": 0,
      "outputs": []
    },
    {
      "cell_type": "code",
      "metadata": {
        "execution": {
          "iopub.execute_input": "2020-05-31T18:46:14.466746Z",
          "iopub.status.busy": "2020-05-31T18:46:14.466491Z",
          "iopub.status.idle": "2020-05-31T19:07:49.547540Z",
          "shell.execute_reply": "2020-05-31T19:07:49.546860Z",
          "shell.execute_reply.started": "2020-05-31T18:46:14.466720Z"
        },
        "scrolled": true,
        "id": "UIZW3-0yqhEW",
        "colab_type": "code",
        "colab": {}
      },
      "source": [
        "for i, j in tqdm(zip(sc.camera.iter_rotate(np.pi, n_steps=400, rot_center=sp.center),\n",
        "                     sc.camera.iter_zoom(3, n_steps=400)), total=400):\n",
        "    sc.save('plots/density_%04i.png' % i, sigma_clip=2)"
      ],
      "execution_count": 0,
      "outputs": []
    },
    {
      "cell_type": "markdown",
      "metadata": {
        "id": "WIjs23bTqhEa",
        "colab_type": "text"
      },
      "source": [
        "# Merge density and temperature layers together"
      ]
    },
    {
      "cell_type": "markdown",
      "metadata": {
        "id": "inSOoH1lqhEb",
        "colab_type": "text"
      },
      "source": [
        "This requires the imagemagick package. When using conda, you can install it using\n",
        "```bash\n",
        "conda install -c conda-forge imagemagick\n",
        "```"
      ]
    },
    {
      "cell_type": "code",
      "metadata": {
        "execution": {
          "iopub.execute_input": "2020-05-31T19:46:18.803191Z",
          "iopub.status.busy": "2020-05-31T19:46:18.802908Z",
          "iopub.status.idle": "2020-05-31T19:46:34.681359Z",
          "shell.execute_reply": "2020-05-31T19:46:34.680322Z",
          "shell.execute_reply.started": "2020-05-31T19:46:18.803160Z"
        },
        "id": "3IUrGgEqqhEb",
        "colab_type": "code",
        "colab": {}
      },
      "source": [
        "%%bash\n",
        "\n",
        "cd plots/\n",
        "for ii in {0..399}; do\n",
        "    i=$(printf \"%04d\" $ii)\n",
        "    j=$(python -c \"print(int(max(0, (300-int($ii))/3)))\")\n",
        "    echo composite -blend ${j}x100 temperature_$i.png density_$i.png temp_dens_$i.png\n",
        "    echo convert temp_dens_$i.png -gravity center -crop 1920x1080+0+0 temp_dens_${i}_UHD.png\n",
        "done | xargs -I{} --max-procs $OMP_NUM_THREADS /bin/sh -c \"{}\""
      ],
      "execution_count": 0,
      "outputs": []
    },
    {
      "cell_type": "markdown",
      "metadata": {
        "execution": {
          "iopub.execute_input": "2020-05-31T15:13:09.430413Z",
          "iopub.status.busy": "2020-05-31T15:13:09.429837Z",
          "iopub.status.idle": "2020-05-31T15:13:09.441620Z",
          "shell.execute_reply": "2020-05-31T15:13:09.439292Z",
          "shell.execute_reply.started": "2020-05-31T15:13:09.430343Z"
        },
        "id": "mKmt1q3dqhEg",
        "colab_type": "text"
      },
      "source": [
        "Now, let's make a video out of the frames. This requires ffmpeg, which you can also install using\n",
        "```bash\n",
        "conda install -c conda-forge ffmpeg openh264\n",
        "```"
      ]
    },
    {
      "cell_type": "code",
      "metadata": {
        "execution": {
          "iopub.execute_input": "2020-05-31T18:41:57.169406Z",
          "iopub.status.busy": "2020-05-31T18:41:57.169172Z",
          "iopub.status.idle": "2020-05-31T18:41:57.320576Z",
          "shell.execute_reply": "2020-05-31T18:41:57.319507Z",
          "shell.execute_reply.started": "2020-05-31T18:41:57.169375Z"
        },
        "id": "EtDTCZGuqhEh",
        "colab_type": "code",
        "colab": {}
      },
      "source": [
        "%%bash\n",
        "cd plots\n",
        "rm temp_dens.mp4\n",
        "cat temp_dens_????_UHD.png \\\n",
        "    | ffmpeg -f image2pipe -framerate 20 -i - -vcodec libx264 -pix_fmt yuv420p temp_dens_HD.mp4"
      ],
      "execution_count": 0,
      "outputs": []
    },
    {
      "cell_type": "code",
      "metadata": {
        "id": "H72NxQtbqhEl",
        "colab_type": "code",
        "colab": {}
      },
      "source": [
        ""
      ],
      "execution_count": 0,
      "outputs": []
    }
  ]
}